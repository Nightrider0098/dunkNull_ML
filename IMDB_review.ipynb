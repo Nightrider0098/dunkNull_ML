{
  "nbformat": 4,
  "nbformat_minor": 0,
  "metadata": {
    "colab": {
      "name": "IMDB_review.ipynb",
      "provenance": [],
      "collapsed_sections": [],
      "toc_visible": true,
      "authorship_tag": "ABX9TyNcz6DZVjTrjbOA1c/p8lqJ",
      "include_colab_link": true
    },
    "kernelspec": {
      "name": "python3",
      "display_name": "Python 3"
    }
  },
  "cells": [
    {
      "cell_type": "markdown",
      "metadata": {
        "id": "view-in-github",
        "colab_type": "text"
      },
      "source": [
        "<a href=\"https://colab.research.google.com/github/Nightrider0098/dunkNull_ML/blob/main/IMDB_review.ipynb\" target=\"_parent\"><img src=\"https://colab.research.google.com/assets/colab-badge.svg\" alt=\"Open In Colab\"/></a>"
      ]
    },
    {
      "cell_type": "code",
      "metadata": {
        "colab": {
          "base_uri": "https://localhost:8080/"
        },
        "id": "LCse3YZ3lOcv",
        "outputId": "866601ee-8b9a-487e-b947-8fa0fd5b36f8"
      },
      "source": [
        "from google.colab import files\r\n",
        "files.upload() #upload kaggle.json\r\n",
        "!pip install -q kaggle\r\n",
        "!mkdir -p ~/.kaggle\r\n",
        "!cp kaggle.json ~/.kaggle/\r\n",
        "!ls ~/.kaggle\r\n",
        "!chmod 600 /root/.kaggle/kaggle.json\r\n",
        "!kaggle datasets download -d lakshmi25npathi/imdb-dataset-of-50k-movie-reviews\r\n"
      ],
      "execution_count": 21,
      "outputs": [
        {
          "output_type": "stream",
          "text": [
            "Downloading imdb-dataset-of-50k-movie-reviews.zip to /content\n",
            " 35% 9.00M/25.7M [00:01<00:01, 9.33MB/s]\n",
            "100% 25.7M/25.7M [00:01<00:00, 24.1MB/s]\n"
          ],
          "name": "stdout"
        }
      ]
    },
    {
      "cell_type": "code",
      "metadata": {
        "id": "adlNuMbwmcnX"
      },
      "source": [
        "!unzip /content/imdb-dataset-of-50k-movie-reviews.zip\r\n",
        "!mkdir train\r\n",
        "!mkdir test\r\n",
        "!mv '/content/IMDB Dataset.csv' /content/train/"
      ],
      "execution_count": 25,
      "outputs": []
    },
    {
      "cell_type": "code",
      "metadata": {
        "id": "0wqulXCehlik"
      },
      "source": [
        "from sklearn.feature_extraction.text import TfidfVectorizer\r\n",
        "import pandas as pd"
      ],
      "execution_count": 8,
      "outputs": []
    },
    {
      "cell_type": "code",
      "metadata": {
        "id": "EIdWF8XVm3B0"
      },
      "source": [
        "df = pd.read_csv('/content/train/IMDB Dataset.csv')"
      ],
      "execution_count": 26,
      "outputs": []
    },
    {
      "cell_type": "code",
      "metadata": {
        "id": "_uqRVEtdnC8b"
      },
      "source": [
        "X = df.review"
      ],
      "execution_count": 28,
      "outputs": []
    },
    {
      "cell_type": "code",
      "metadata": {
        "id": "Rbeo4WyJjaW3"
      },
      "source": [
        "data = [\"The movie was good\",'Good but cant say it','not at all good.']"
      ],
      "execution_count": 2,
      "outputs": []
    },
    {
      "cell_type": "code",
      "metadata": {
        "id": "q8dwyeO6joAf"
      },
      "source": [
        "tfIdf = TfidfVectorizer(ngram_range=(1,3))"
      ],
      "execution_count": 29,
      "outputs": []
    },
    {
      "cell_type": "code",
      "metadata": {
        "id": "Xp0Z-ezxkRQ8"
      },
      "source": [
        "tfIdf.fit(X)"
      ],
      "execution_count": null,
      "outputs": []
    },
    {
      "cell_type": "code",
      "metadata": {
        "id": "BKg6vro3kU93"
      },
      "source": [
        "data_vector = tfIdf.transform(X)"
      ],
      "execution_count": null,
      "outputs": []
    },
    {
      "cell_type": "code",
      "metadata": {
        "id": "xgeHshKjki2x"
      },
      "source": [
        "data_vector = data_vector.todense()\r\n",
        "pd.DataFrame(data_vector,columns=tfIdf.get_feature_names())"
      ],
      "execution_count": null,
      "outputs": []
    },
    {
      "cell_type": "code",
      "metadata": {
        "id": "xQgn_sQBkzcL"
      },
      "source": [
        ""
      ],
      "execution_count": null,
      "outputs": []
    }
  ]
}